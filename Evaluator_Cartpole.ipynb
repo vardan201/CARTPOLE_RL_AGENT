{
  "nbformat": 4,
  "nbformat_minor": 0,
  "metadata": {
    "colab": {
      "provenance": []
    },
    "kernelspec": {
      "name": "python3",
      "display_name": "Python 3"
    },
    "language_info": {
      "name": "python"
    }
  },
  "cells": [
    {
      "cell_type": "code",
      "execution_count": null,
      "metadata": {
        "id": "l1F2M003blfu"
      },
      "outputs": [],
      "source": [
        "!pip install gym==0.26.2 numpy==1.23.5\n",
        "import gym, cv2\n",
        "import tensorflow as tf\n",
        "from keras.models import load_model\n",
        "import numpy as np # Import numpy\n",
        "from google.colab.patches import cv2_imshow # Import cv2_imshow\n",
        "\n",
        "# Ensure OpenCV is installed\n",
        "# !pip install opencv-python\n",
        "\n",
        "env=gym.make('CartPole-v1', render_mode='rgb_array') # Explicitly set the render_mode\n",
        "q_net = load_model(\"dqn_q_net.keras\")\n",
        "\n",
        "\n",
        "def policy(state, explore=0.0):\n",
        "    action = tf.argmax(q_net(state)[0], output_type=tf.int32)\n",
        "    if tf.random.uniform(shape=(), maxval=1) <= explore:\n",
        "        action = tf.random.uniform(shape=(), minval=0, maxval=2, dtype=tf.int32) # Changed maxval back to 2 for CartPole actions\n",
        "    return action\n",
        "\n",
        "\n",
        "for episode in range(5):\n",
        "    done = False\n",
        "    # Ensure env.reset() output is a NumPy array before converting to tensor\n",
        "    # In newer Gym versions, reset() returns (observation, info)\n",
        "    reset_output = env.reset()\n",
        "    # Access the observation from the tuple (first element) and convert to NumPy array\n",
        "    reset_output_np = np.array(reset_output[0]).reshape(4,) # Access the first element\n",
        "    state = tf.convert_to_tensor([reset_output_np], dtype=tf.float32) # Specify dtype for consistency\n",
        "\n",
        "    while not done:\n",
        "        # Rendering code remains the same\n",
        "        # Removed the mode argument as it's not supported in newer Gym versions\n",
        "        frame = env.render()\n",
        "        # Check if frame is not None before displaying\n",
        "        if frame is not None:\n",
        "            # Assuming the default render output is 'rgb_array' and compatible with cv2.imshow\n",
        "            cv2_imshow(frame) # Replaced cv2.imshow with cv2_imshow\n",
        "            cv2.waitKey(20)\n",
        "        else:\n",
        "            print(\"Rendering failed. Skipping frame display.\")\n",
        "\n",
        "\n",
        "        action = policy(state)\n",
        "        # env.step returns a tuple, the state is the first element\n",
        "        next_state_numpy, reward, done, truncated, info = env.step(action.numpy()) # Added truncated and info for newer Gym versions\n",
        "        # Convert the next state NumPy array to a tensor with a batch dimension\n",
        "        state = tf.convert_to_tensor([next_state_numpy], dtype=tf.float32) # Specify dtype\n",
        "\n",
        "env.close()\n",
        "# Close all OpenCV windows\n",
        "cv2.destroyAllWindows()"
      ]
    }
  ]
}